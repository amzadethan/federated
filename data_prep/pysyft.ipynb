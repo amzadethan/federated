{
 "cells": [
  {
   "cell_type": "code",
   "execution_count": 1,
   "id": "428507e8",
   "metadata": {},
   "outputs": [],
   "source": [
    "import torch\n",
    "import syft as sy"
   ]
  },
  {
   "cell_type": "code",
   "execution_count": 2,
   "id": "a5126b33",
   "metadata": {},
   "outputs": [],
   "source": [
    "# first we need to create a hook to connect the clients\n",
    "# we can do it by calling TorchHook from pysyft\n",
    "# and we need to pass torch\n",
    "# to extend the federated learning functionalities \n",
    "\n",
    "hook = sy.TorchHook(torch)"
   ]
  },
  {
   "cell_type": "code",
   "execution_count": 3,
   "id": "b4d9de87",
   "metadata": {},
   "outputs": [
    {
     "name": "stdout",
     "output_type": "stream",
     "text": [
      "<VirtualWorker id:bob #objects:0>\n"
     ]
    },
    {
     "data": {
      "text/plain": [
       "{}"
      ]
     },
     "execution_count": 3,
     "metadata": {},
     "output_type": "execute_result"
    }
   ],
   "source": [
    "# we need to create a virtual client\n",
    "# and for that, we need to call\n",
    "# VirtualWorker from pysyft and\n",
    "# pass the hook we created with an id\n",
    "# a virtual client is just a collection of objects\n",
    "# this created virtual client will have no data nor any model\n",
    "\n",
    "bob = sy.VirtualWorker(hook, id='bob')\n",
    "print(bob)\n",
    "bob._objects"
   ]
  },
  {
   "cell_type": "code",
   "execution_count": 4,
   "id": "615b7f00",
   "metadata": {},
   "outputs": [],
   "source": [
    "# now we need to send data to virtual client and fetch that back\n",
    "# for that, first we will create a tensor\n",
    "\n",
    "x = torch.Tensor([1,2,3])"
   ]
  },
  {
   "cell_type": "code",
   "execution_count": 5,
   "id": "0e0a7b6c",
   "metadata": {},
   "outputs": [
    {
     "data": {
      "text/plain": [
       "tensor([1., 2., 3.])"
      ]
     },
     "execution_count": 5,
     "metadata": {},
     "output_type": "execute_result"
    }
   ],
   "source": [
    "# print the tensor we created for check\n",
    "x"
   ]
  },
  {
   "cell_type": "code",
   "execution_count": 6,
   "id": "d19f43ad",
   "metadata": {},
   "outputs": [],
   "source": [
    "# now, we send x to the virtual client bob\n",
    "\n",
    "x = x.send(bob)"
   ]
  },
  {
   "cell_type": "code",
   "execution_count": 7,
   "id": "3a8eee66",
   "metadata": {},
   "outputs": [
    {
     "data": {
      "text/plain": [
       "(Wrapper)>[PointerTensor | me:28835247278 -> bob:79388025359]"
      ]
     },
     "execution_count": 7,
     "metadata": {},
     "output_type": "execute_result"
    }
   ],
   "source": [
    "# so, now in x, we have a pointer\n",
    "# the location of this pointer is me-> server created this\n",
    "# and what the pointer points to is -> our client, bob\n",
    "# means the actual tensor is now located on client machine / bob\n",
    "#\n",
    "\n",
    "x"
   ]
  },
  {
   "cell_type": "code",
   "execution_count": 8,
   "id": "4848f67c",
   "metadata": {},
   "outputs": [
    {
     "data": {
      "text/plain": [
       "{79388025359: tensor([1., 2., 3.])}"
      ]
     },
     "execution_count": 8,
     "metadata": {},
     "output_type": "execute_result"
    }
   ],
   "source": [
    "# now print, bob;s objects again\n",
    "bob._objects"
   ]
  },
  {
   "cell_type": "code",
   "execution_count": 9,
   "id": "f1c209fd",
   "metadata": {},
   "outputs": [
    {
     "data": {
      "text/plain": [
       "<VirtualWorker id:bob #objects:1>"
      ]
     },
     "execution_count": 9,
     "metadata": {},
     "output_type": "execute_result"
    }
   ],
   "source": [
    "# now, x has the pointer and it has many attributes such as location\n",
    "# the print result is the actual location where that tensor is\n",
    "x.location"
   ]
  },
  {
   "cell_type": "code",
   "execution_count": 10,
   "id": "056a8853",
   "metadata": {},
   "outputs": [
    {
     "data": {
      "text/plain": [
       "True"
      ]
     },
     "execution_count": 10,
     "metadata": {},
     "output_type": "execute_result"
    }
   ],
   "source": [
    "# lets check the validity of the location info\n",
    "x.location == bob"
   ]
  },
  {
   "cell_type": "code",
   "execution_count": 11,
   "id": "c97d75eb",
   "metadata": {},
   "outputs": [
    {
     "data": {
      "text/plain": [
       "'bob'"
      ]
     },
     "execution_count": 11,
     "metadata": {},
     "output_type": "execute_result"
    }
   ],
   "source": [
    "# another attribute is id\n",
    "\n",
    "bob.id"
   ]
  },
  {
   "cell_type": "code",
   "execution_count": 12,
   "id": "7d9638fa",
   "metadata": {},
   "outputs": [],
   "source": [
    "# now, we will fetch the data back from bob to x\n",
    "# get will return the actual tensor, no pointer\n",
    "\n",
    "x = x.get()"
   ]
  },
  {
   "cell_type": "code",
   "execution_count": 13,
   "id": "bddd1584",
   "metadata": {},
   "outputs": [
    {
     "data": {
      "text/plain": [
       "tensor([1., 2., 3.])"
      ]
     },
     "execution_count": 13,
     "metadata": {},
     "output_type": "execute_result"
    }
   ],
   "source": [
    "x"
   ]
  }
 ],
 "metadata": {
  "kernelspec": {
   "display_name": "Python 3",
   "language": "python",
   "name": "python3"
  },
  "language_info": {
   "codemirror_mode": {
    "name": "ipython",
    "version": 3
   },
   "file_extension": ".py",
   "mimetype": "text/x-python",
   "name": "python",
   "nbconvert_exporter": "python",
   "pygments_lexer": "ipython3",
   "version": "3.8.10"
  }
 },
 "nbformat": 4,
 "nbformat_minor": 5
}
