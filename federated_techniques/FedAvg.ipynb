{
 "cells": [
  {
   "cell_type": "code",
   "execution_count": 1,
   "id": "001c8337",
   "metadata": {},
   "outputs": [],
   "source": [
    "# import all required functions and libraries\n",
    "\n",
    "import torch\n",
    "import torch.nn as nn\n",
    "import torch.nn.functional as F\n",
    "import torch.optim as optim\n",
    "import syft as sy\n",
    "import copy\n",
    "import numpy as np\n",
    "import time\n",
    "from torchvision import datasets, transforms\n",
    "from torch.utils.data import DataLoader, Dataset\n",
    "\n",
    "from ipynb.fs.full.FLDataset import load_dataset, getActualImages\n",
    "from ipynb.fs.full.utils import averageModels"
   ]
  },
  {
   "cell_type": "code",
   "execution_count": 2,
   "id": "43899bc5",
   "metadata": {},
   "outputs": [],
   "source": [
    "# arguments class\n",
    "\n",
    "class Arguments():\n",
    "    def __init__(self):\n",
    "        self.images = 60000\n",
    "        self.clients = 20 \n",
    "        self.rounds = 2 \n",
    "        self.epochs = 2 \n",
    "        self.local_batches = 1 \n",
    "        self.lr = 0.01 \n",
    "        self.C = 0.8 \n",
    "        self.drop_rate = 0.2  \n",
    "        self.torch_seed = 0 \n",
    "        self.log_interval = 500\n",
    "        self.iid = 'iid' \n",
    "        self.split_size = int(self.images / self.clients) \n",
    "        self.use_cuda = False\n",
    "        self.save_model = False\n",
    "\n",
    "args = Arguments()\n",
    "use_cuda = args.use_cuda and torch.cuda.isavailable()\n",
    "device = torch.device(\"cuda\" if use_cuda else \"cpu\")\n",
    "kwargs = {'num_workers' : 1, 'pin_memory': True} if use_cuda else {}"
   ]
  },
  {
   "cell_type": "code",
   "execution_count": 3,
   "id": "d9003bd6",
   "metadata": {},
   "outputs": [],
   "source": [
    "# hook\n",
    "\n",
    "hook = sy.TorchHook(torch)\n",
    "clients = []\n",
    "\n",
    "for i in range(args.clients):\n",
    "    clients.append({\"hook\" : sy.VirtualWorker(hook, id=\"client{}\".format(i+1))})\n",
    "    "
   ]
  },
  {
   "cell_type": "code",
   "execution_count": 4,
   "id": "1c467eb2",
   "metadata": {},
   "outputs": [],
   "source": [
    "global_train, global_test, train_group, test_group = load_dataset(args.clients, args.iid)\n",
    "\n"
   ]
  },
  {
   "cell_type": "code",
   "execution_count": 5,
   "id": "bbfcf4fa",
   "metadata": {},
   "outputs": [],
   "source": [
    "for inx, client in enumerate(clients):\n",
    "    client['trainset'] = getActualImages(global_train, list(train_group[inx]), args.local_batches)\n",
    "    client['testset'] = getActualImages(global_test, list(test_group[inx]), args.local_batches)\n",
    "    client['samples'] = len(client['trainset']) / args.images"
   ]
  },
  {
   "cell_type": "code",
   "execution_count": 6,
   "id": "616f0462",
   "metadata": {},
   "outputs": [],
   "source": [
    "transform = transforms.Compose([transforms.ToTensor(), transforms.Normalize((0.1307,),(0.3081,))])\n",
    "global_test_dataset = datasets.MNIST('./data', train=False, download=True, transform=transform)\n",
    "global_test_loader = DataLoader(global_test_dataset, batch_size=args.local_batches, shuffle=True)\n"
   ]
  },
  {
   "cell_type": "code",
   "execution_count": 7,
   "id": "9662a7d9",
   "metadata": {},
   "outputs": [],
   "source": [
    "# Network class\n",
    "\n",
    "class Net(nn.Module):\n",
    "    def __init__(self):\n",
    "        super(Net, self).__init__()\n",
    "        self.conv1 = nn.Conv2d(1, 20, 5, 1)\n",
    "        self.conv2 = nn.Conv2d(20, 50, 5, 1)\n",
    "        self.fc1 = nn.Linear(4*4*50, 500)\n",
    "        self.fc2 = nn.Linear(500, 10)\n",
    "        \n",
    "    def forward(self, x):\n",
    "        \n",
    "        x = F.relu(self.conv1(x))\n",
    "        x = F.max_pool2d(x, 2, 2)\n",
    "        x = F.relu(self.conv2(x))\n",
    "        x = F.max_pool2d(x, 2, 2)\n",
    "        x = x.view(-1, 4*4*50)\n",
    "        x = F.relu(self.fc1(x))\n",
    "        x = self.fc2(x)\n",
    "        return F.log_softmax(x, dim=1)"
   ]
  },
  {
   "cell_type": "code",
   "execution_count": 8,
   "id": "93fbb66a",
   "metadata": {},
   "outputs": [],
   "source": [
    "# ClientUpdate class\n",
    "\n",
    "def ClientUpdate(args, device, client):\n",
    "    client['model'].train()    \n",
    "    client['model'].send(client['hook'])\n",
    "    \n",
    "    for epoch in range(1, args.epochs + 1):\n",
    "        for batch_idx, (data, target) in enumerate(client['trainset']):\n",
    "            \n",
    "            data = data.send(client['hook'])\n",
    "            target = target.send(client['hook'])\n",
    "            data, target = data.to(device), target.to(device)\n",
    "            client['optim'].zero_grad()\n",
    "            output = client['model'](data)\n",
    "            loss = F.nll_loss(output, target)\n",
    "            loss.backward()\n",
    "            client['optim'].step()\n",
    "            \n",
    "            if batch_idx % args.log_interval == 0:\n",
    "                loss = loss.get()\n",
    "                print('Model {} Train Epoch: {} [{}/{} ({:.0f}%)]\\tLoss: {:.6f}'.format(\n",
    "                    client['hook'].id,\n",
    "                    epoch, batch_idx * args.local_batches, len(client['trainset']) * args.local_batches, \n",
    "                    100. * batch_idx / len(client['trainset']), loss))\n",
    "    client['model'].get()"
   ]
  },
  {
   "cell_type": "code",
   "execution_count": 9,
   "id": "02663346",
   "metadata": {},
   "outputs": [],
   "source": [
    "# test function\n",
    "\n",
    "def test(args, model, device, test_loader, name):\n",
    "    model.eval()\n",
    "    test_loss = 0\n",
    "    correct = 0\n",
    "    with torch.no_grad():\n",
    "        for data, target in test_loader:\n",
    "            data, target = data.to(device), target.to(device)\n",
    "            output = model(data)\n",
    "            test_loss += F.nll_loss(output, target, reduction='sum').item() # sum up batch loss\n",
    "            pred = output.argmax(1, keepdim=True) # get the index of the max log-probability\n",
    "            correct += pred.eq(target.view_as(pred)).sum().item()\n",
    "            \n",
    "    test_loss /= len(test_loader.dataset)\n",
    "    \n",
    "    print('\\nTest set: Average loss for {} model: {:.4f}, Acccuracy: {}/{} ({:.0f}%)\\n'.format(\n",
    "    name, test_loss, correct, len(test_loader.dataset),\n",
    "    100. * correct / len(test_loader.dataset)))"
   ]
  },
  {
   "cell_type": "code",
   "execution_count": null,
   "id": "f92a57e5",
   "metadata": {
    "scrolled": false
   },
   "outputs": [],
   "source": [
    "# Federated\n",
    "\n",
    "torch.manual_seed(args.torch_seed) \n",
    "global_model = Net()\n",
    "\n",
    "\n",
    "for client in clients:\n",
    "    torch.manual_seed(args.torch_seed)\n",
    "    client['model'] = Net().to(device)\n",
    "    client['optim'] = optim.SGD(client['model'].parameters(), lr=args.lr)\n",
    "\n",
    "\n",
    "for fed_round in range(args.rounds):\n",
    "    m = int(max(args.C * args.clients, 1)) # here 1, so that at least 1 client will be chosen for a round\n",
    "    np.random.seed(fed_round)\n",
    "    selected_clients_inds = np.random.choice(range(len(clients)), m, replace=False)\n",
    "    selected_clients = [clients[i] for i in selected_clients_inds]\n",
    "    \n",
    "    np.random.seed(fed_round)\n",
    "    active_clients_inds = np.random.choice(selected_clients_inds, int((1-args.drop_rate) * m), replace=False)\n",
    "    active_clients = [clients[i] for i in active_clients_inds]\n",
    "    \n",
    "    # training\n",
    "    for client in active_clients:\n",
    "        ClientUpdate(args, device, client)\n",
    "        \n",
    "    # testing the local client trained models\n",
    "    for client in active_clients:\n",
    "        test(args, client['model'], device, client['testset'], client['hook'].id)\n",
    "    \n",
    "    # Averaging\n",
    "    global_model = averageModels(global_model, active_clients)\n",
    "    \n",
    "    # Testing the average model to see the accuracy\n",
    "    test(args, global_model, device, global_test_loader, 'Global')\n",
    "    \n",
    "    # Share the global model with the clients\n",
    "    for client in clients:\n",
    "        client['model'].load_state_dict(global_model.state_dict())\n",
    "\n",
    "if (args.save_model):\n",
    "    torch.save(global_model.state_dict(), \"FedAvg.pt\")"
   ]
  },
  {
   "cell_type": "code",
   "execution_count": null,
   "id": "274baaa8",
   "metadata": {},
   "outputs": [],
   "source": [
    "# weights of the global model\n",
    "\n",
    "list(global_model.parameters())"
   ]
  },
  {
   "cell_type": "code",
   "execution_count": null,
   "id": "3e859da4",
   "metadata": {},
   "outputs": [],
   "source": [
    "# 1st client's gradients\n",
    "\n",
    "list(clients[0]['model'].parameters())[0].grad"
   ]
  }
 ],
 "metadata": {
  "kernelspec": {
   "display_name": "Python 3",
   "language": "python",
   "name": "python3"
  },
  "language_info": {
   "codemirror_mode": {
    "name": "ipython",
    "version": 3
   },
   "file_extension": ".py",
   "mimetype": "text/x-python",
   "name": "python",
   "nbconvert_exporter": "python",
   "pygments_lexer": "ipython3",
   "version": "3.8.10"
  }
 },
 "nbformat": 4,
 "nbformat_minor": 5
}
