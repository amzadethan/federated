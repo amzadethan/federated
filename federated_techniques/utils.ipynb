{
 "cells": [
  {
   "cell_type": "code",
   "execution_count": 1,
   "id": "85019379",
   "metadata": {},
   "outputs": [],
   "source": [
    "# function for averaging client's new models\n",
    "\n",
    "import torch\n",
    "\n",
    "def averageModels(global_model, clients):\n",
    "    client_models = [clients[i]['model'] for i in range(len(clients))]\n",
    "    samples = [clients[i]['samples'] for i in range(len(clients))]\n",
    "    global_dict = global_model.state_dict()\n",
    "    for k in global_dict.keys():\n",
    "        global_dict[k] = torch.stack([client_models[i].state_dict()[k].float() * samples[i] for i in range(len(client_models))], 0).sum(0)\n",
    "    global_model.load_state_dict(global_dict)\n",
    "    return global_model"
   ]
  }
 ],
 "metadata": {
  "kernelspec": {
   "display_name": "Python 3",
   "language": "python",
   "name": "python3"
  },
  "language_info": {
   "codemirror_mode": {
    "name": "ipython",
    "version": 3
   },
   "file_extension": ".py",
   "mimetype": "text/x-python",
   "name": "python",
   "nbconvert_exporter": "python",
   "pygments_lexer": "ipython3",
   "version": "3.8.10"
  }
 },
 "nbformat": 4,
 "nbformat_minor": 5
}
